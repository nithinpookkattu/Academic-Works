{
 "cells": [
  {
   "cell_type": "code",
   "execution_count": 8,
   "metadata": {},
   "outputs": [
    {
     "name": "stdout",
     "output_type": "stream",
     "text": [
      "Name of first variable: Speed\n",
      "Name of second variable: Mileage\n",
      "Enter the values of Speed (Numbers should be seperated with space): 10 20 30 40 50\n",
      "The list of values of Speed are  [10, 20, 30, 40, 50]\n",
      "Enter the values of Mileage (Numbers should be seperated with space): 20 18 16 14 12\n",
      "The list of values of Mileage are  [20, 18, 16, 14, 12]\n",
      "Average of Speed is  30.0\n",
      "Average of Mileage is  16.0\n",
      "Pearson Correlation Coefficient, r = -1.0\n"
     ]
    },
    {
     "data": {
      "image/png": "[encoded data removed]",
      "text/plain": [
       "<Figure size 432x288 with 1 Axes>"
      ]
     },
     "metadata": {},
     "output_type": "display_data"
    }
   ],
   "source": [
    "import numpy as np\n",
    "import matplotlib\n",
    "import matplotlib.pyplot as plt\n",
    "\n",
    "#Taking input from user\n",
    "user_input_1_variable = input(\"Name of first variable: \")\n",
    "user_input_2_variable = input(\"Name of second variable: \")\n",
    "\n",
    "user_input_x = input('Enter the values of '+user_input_1_variable+' (Numbers should be seperated with space): ')\n",
    "user_list_x = user_input_x.split()\n",
    "user_list_x = [int(i) for i in user_list_x]\n",
    "print('The list of values of '+user_input_1_variable+' are ',user_list_x)\n",
    "\n",
    "user_input_y = input('Enter the values of '+user_input_2_variable+' (Numbers should be seperated with space): ')\n",
    "user_list_y = user_input_y.split()\n",
    "user_list_y = [int(i) for i in user_list_y]\n",
    "print('The list of values of '+user_input_2_variable+' are ',user_list_y)\n",
    "\n",
    "\n",
    "    \n",
    "else:\n",
    "    aver_x = sum(user_list_x)/len(user_list_x)\n",
    "    aver_x = round(aver_x,2)\n",
    "    print('Average of '+user_input_1_variable+' is ',aver_x)\n",
    "    \n",
    "    aver_y = sum(user_list_y)/len(user_list_y)\n",
    "    aver_y = round(aver_y,2)\n",
    "    print('Average of '+user_input_2_variable+' is ',aver_y)\n",
    "    \n",
    "    corr_coef = np.corrcoef(user_list_x,user_list_y)\n",
    "    r = corr_coef[0][1]\n",
    "    r = round(r,2)\n",
    "    r = str(r)\n",
    "    print('Pearson Correlation Coefficient, r = '+r)\n",
    "    \n",
    "    %matplotlib inline\n",
    "    matplotlib.style.use('ggplot')\n",
    "    plt.scatter(user_list_x,user_list_y)\n",
    "    plt.xlabel(\"X Value\")\n",
    "    plt.ylabel(\"Y Value\")\n",
    "    plt.show()\n",
    "    \n",
    "    "
   ]
  }
 ],
 "metadata": {
  "kernelspec": {
   "display_name": "Python 3",
   "language": "python",
   "name": "python3"
  },
  "language_info": {
   "codemirror_mode": {
    "name": "ipython",
    "version": 3
   },
   "file_extension": ".py",
   "mimetype": "text/x-python",
   "name": "python",
   "nbconvert_exporter": "python",
   "pygments_lexer": "ipython3",
   "version": "3.7.4"
  }
 },
 "nbformat": 4,
 "nbformat_minor": 2
}
