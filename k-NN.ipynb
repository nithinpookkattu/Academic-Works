{
 "cells": [
  {
   "cell_type": "code",
   "execution_count": 19,
   "metadata": {},
   "outputs": [
    {
     "name": "stdout",
     "output_type": "stream",
     "text": [
      "k-Value = SQRT(x_train)\n",
      "k_value is  11.0\n",
      "11.0\n",
      "\n",
      "Confusion Matrix is \n",
      " [[94 13]\n",
      " [15 32]]\n",
      "\n",
      "f1 Score -  0.6956521739130436\n",
      "\n",
      "Accuracy of the Algorithm -  0.8181818181818182\n"
     ]
    }
   ],
   "source": [
    "import pandas as pd\n",
    "import numpy as np\n",
    "from sklearn.model_selection import train_test_split\n",
    "from sklearn.preprocessing import StandardScaler\n",
    "from sklearn.neighbors import KNeighborsClassifier\n",
    "from sklearn.metrics import confusion_matrix\n",
    "from sklearn.metrics import f1_score\n",
    "from sklearn.metrics import accuracy_score\n",
    "\n",
    "dia_data = pd.read_csv(r'C:\\Users\\Nithin\\Downloads\\Diabetes.csv')\n",
    "\n",
    "#print(len(dia_dataset))\n",
    "#print(dia_dataset.head())\n",
    "\n",
    "null_value_replacement = ['Glucose', 'BloodPressure', 'SkinThickness', 'BMI', 'Insulin']\n",
    "\n",
    "for column in null_value_replacement:\n",
    "    dia_data[column] = dia_data[column].replace(0, np.NaN)\n",
    "    mean = int(dia_data[column].mean(skipna=True))\n",
    "    dia_data[column] = dia_data[column].replace(np.NaN, mean)\n",
    "    \n",
    "x = dia_data.iloc[:, 0:8]\n",
    "y = dia_data.iloc[:, 8]\n",
    "x_train, x_test, y_train, y_test = train_test_split(x,y, random_state=0, test_size=0.2)\n",
    "\n",
    "sc_x = StandardScaler()\n",
    "x_train = sc_x.fit_transform(x_train)\n",
    "x_test = sc_x.transform(x_test)\n",
    "\n",
    "print('k-Value = SQRT(x_train)')\n",
    "import math\n",
    "X = math.sqrt(len(y_test))\n",
    "X = round(X,0)\n",
    "if X%2 == 0:\n",
    "    X = X-1\n",
    "    print('k_value is ', X)\n",
    "#else:\n",
    "    #print('k_value is ',X)  \n",
    "\n",
    "classifier = KNeighborsClassifier(n_neighbors=11, p=2, metric='euclidean')  \n",
    "\n",
    "print(X)\n",
    "classifier.fit(x_train, y_train)\n",
    "\n",
    "y_pred = classifier.predict(x_test)\n",
    "\n",
    "cm = confusion_matrix(y_test,y_pred)\n",
    "print('\\nConfusion Matrix is \\n', cm)\n",
    "\n",
    "print('\\nf1 Score - ',f1_score(y_test,y_pred))\n",
    "\n",
    "print('\\nAccuracy of the Algorithm - ',accuracy_score(y_test, y_pred))"
   ]
  }
 ],
 "metadata": {
  "kernelspec": {
   "display_name": "Python 3",
   "language": "python",
   "name": "python3"
  },
  "language_info": {
   "codemirror_mode": {
    "name": "ipython",
    "version": 3
   },
   "file_extension": ".py",
   "mimetype": "text/x-python",
   "name": "python",
   "nbconvert_exporter": "python",
   "pygments_lexer": "ipython3",
   "version": "3.7.4"
  }
 },
 "nbformat": 4,
 "nbformat_minor": 2
}
